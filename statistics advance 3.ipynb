{
 "cells": [
  {
   "cell_type": "markdown",
   "id": "45d335d9-ac44-45c8-a82b-a38ef2a50ab6",
   "metadata": {},
   "source": [
    "## Q1: What is Estimation Statistics? Explain point estimate and interval estimate."
   ]
  },
  {
   "cell_type": "code",
   "execution_count": null,
   "id": "4952fd9c-787f-4d0c-a925-c63d24d8a8fe",
   "metadata": {},
   "outputs": [],
   "source": [
    "Estimation in Statistics:\n",
    "\n",
    "Estimation in statistics refers to the process of using sample data to make educated guesses or estimates about population\n",
    "parameters. Population parameters are numerical characteristics of a population, such as the population mean, population\n",
    "proportion, population standard deviation, etc. Estimation allows us to infer information about these population parameters\n",
    "based on the information we gather from a sample.\n",
    "\n",
    "There are two main types of estimation in statistics:\n",
    "\n",
    "1.Point Estimation:\n",
    "\n",
    "    ~Point estimation involves using sample data to calculate a single, specific value (point estimate) that serves as an \n",
    "     estimate of a population parameter.\n",
    "    ~The point estimate is often denoted by a Greek letter, such as θ (theta) for a population mean or p for a population\n",
    "     proportion.\n",
    "    ~Point estimates are simple and easy to interpret, but they do not provide information about the uncertainty or \n",
    "     variability associated with the estimate.\n",
    "    ~Example: Calculating the sample mean (x̄) as a point estimate of the population mean (μ).\n",
    "\n",
    "2.Interval Estimation:\n",
    "\n",
    "    ~Interval estimation involves calculating a range or interval of values (confidence interval) that is likely to contain \n",
    "     the true population parameter with a specified level of confidence.\n",
    "    ~It provides a measure of uncertainty associated with the estimate and quantifies the variability in the estimation \n",
    "     process.\n",
    "    ~Confidence intervals are typically expressed in the form (lower limit, upper limit) and are associated with a confidence\n",
    "     level (e.g., 95% confidence interval).\n",
    "    ~Example: Calculating a 95% confidence interval for the population mean (μ) to say that we are 95% confident that the true\n",
    "     μ falls within this interval.\n",
    "        \n",
    "Point Estimate:\n",
    "\n",
    "    ~A point estimate is a single value that represents our best guess or estimate of a population parameter based on sample\n",
    "     data.\n",
    "    ~It is calculated using a statistic (e.g., sample mean, sample proportion) that summarizes the information in the sample.\n",
    "    ~Point estimates are straightforward and easy to communicate.\n",
    "    ~However, they do not provide information about the variability or uncertainty associated with the estimate.\n",
    "    \n",
    "Interval Estimate:\n",
    "\n",
    "    ~An interval estimate is a range of values that is likely to contain the true population parameter with a specified level \n",
    "     of confidence.\n",
    "    ~It includes both a point estimate and a margin of error.\n",
    "    ~Interval estimates provide a measure of uncertainty and allow us to quantify how confident we are in the estimate.\n",
    "    ~Confidence intervals are a common type of interval estimate, where the confidence level determines the degree of\n",
    "     confidence we have in the interval containing the true parameter.\n",
    "In summary, estimation in statistics involves making informed guesses about population parameters based on sample data. Point \n",
    "estimates provide a single best guess, while interval estimates provide a range of values that likely contain"
   ]
  },
  {
   "cell_type": "markdown",
   "id": "f98119c3-787f-43bd-91af-ae5d041690ba",
   "metadata": {},
   "source": [
    "## Q2. Write a Python function to estimate the population mean using a sample mean and standard deviation."
   ]
  },
  {
   "cell_type": "code",
   "execution_count": 1,
   "id": "9654e871-f4ee-489f-b351-1df28a7ca1aa",
   "metadata": {},
   "outputs": [
    {
     "name": "stdout",
     "output_type": "stream",
     "text": [
      "Estimated Population Mean: 70\n",
      "95% Confidence Interval: (69.02, 70.98)\n"
     ]
    }
   ],
   "source": [
    "def estimate_population_mean(sample_mean, sample_stddev, sample_size):\n",
    "    \"\"\"\n",
    "    Estimate the population mean using a sample mean, sample standard deviation, and sample size.\n",
    "\n",
    "    Parameters:\n",
    "    - sample_mean: The mean of the sample.\n",
    "    - sample_stddev: The standard deviation of the sample.\n",
    "    - sample_size: The size of the sample.\n",
    "\n",
    "    Returns:\n",
    "    - estimated_population_mean: The estimated population mean.\n",
    "    \"\"\"\n",
    "\n",
    "    # Calculate the standard error of the sample mean\n",
    "    standard_error = sample_stddev / (sample_size ** 0.5)\n",
    "\n",
    "    # Calculate the margin of error (typically used for constructing confidence intervals)\n",
    "    # For simplicity, we'll use a Z-score of 1.96 for a 95% confidence level.\n",
    "    margin_of_error = 1.96 * standard_error\n",
    "\n",
    "    # Calculate the lower and upper bounds of the confidence interval\n",
    "    lower_bound = sample_mean - margin_of_error\n",
    "    upper_bound = sample_mean + margin_of_error\n",
    "\n",
    "    # Return the estimated population mean and the confidence interval\n",
    "    return sample_mean, lower_bound, upper_bound\n",
    "\n",
    "# Example usage:\n",
    "sample_mean = 70\n",
    "sample_stddev = 5\n",
    "sample_size = 100\n",
    "estimated_mean, lower_limit, upper_limit = estimate_population_mean(sample_mean, sample_stddev, sample_size)\n",
    "print(f\"Estimated Population Mean: {estimated_mean}\")\n",
    "print(f\"95% Confidence Interval: ({lower_limit}, {upper_limit})\")\n"
   ]
  },
  {
   "cell_type": "markdown",
   "id": "d96b649b-c247-4bd1-8998-0ee10944661d",
   "metadata": {},
   "source": [
    "## Q3: What is Hypothesis testing? Why is it used? State the importance of Hypothesis testing."
   ]
  },
  {
   "cell_type": "code",
   "execution_count": null,
   "id": "97e0b7ff-65cf-4658-867c-a7b559aa4990",
   "metadata": {},
   "outputs": [],
   "source": [
    "Hypothesis Testing:\n",
    "\n",
    "Hypothesis testing is a statistical method used to make inferences or draw conclusions about a population based on sample data.\n",
    "It involves a structured process of formulating hypotheses (statements or assumptions about a population parameter), \n",
    "collecting data, and making decisions about the population parameter's characteristics. The primary purpose of hypothesis\n",
    "testing is to assess whether there is enough evidence in the sample data to support or reject a specific hypothesis.\n",
    "\n",
    "The general process of hypothesis testing involves the following steps:\n",
    "\n",
    "1.Formulate Hypotheses:\n",
    "\n",
    "    ~Null Hypothesis (H0): This is the default or initial assumption about the population parameter. It often represents a\n",
    "     statement of no effect, no difference, or no change.\n",
    "    ~Alternative Hypothesis (Ha or H1): This is the statement that contradicts the null hypothesis and represents the effect,\n",
    "     difference, or change you want to test.\n",
    "        \n",
    "2.Collect Data:\n",
    "\n",
    "    ~Obtain a sample from the population of interest.\n",
    "    \n",
    "3.Statistical Analysis:\n",
    "\n",
    "    ~Use statistical methods to analyze the sample data and calculate a test statistic.\n",
    "    \n",
    "4.Compare with Critical Value or P-Value:\n",
    "\n",
    "    ~Depending on the type of test (e.g., t-test, chi-square test), compare the calculated test statistic with a critical\n",
    "     value from a statistical table or calculate a p-value.\n",
    "        \n",
    "5.Make a Decision:\n",
    "\n",
    "    ~If the test statistic falls in the critical region (i.e., it is more extreme than the critical value), reject the null \n",
    "     hypothesis.\n",
    "    ~If the p-value is less than a predefined significance level (usually denoted as α, such as 0.05), reject the null \n",
    "     hypothesis.\n",
    "    ~If neither condition is met, fail to reject the null hypothesis.\n",
    "    \n",
    "6.Draw a Conclusion:\n",
    "\n",
    "    ~Based on the decision, draw a conclusion about the null hypothesis and make inferences about the population.\n",
    "    \n",
    "Importance of Hypothesis Testing:\n",
    "\n",
    "Hypothesis testing is crucial in statistics and scientific research for several reasons:\n",
    "\n",
    "1.Inference: Hypothesis testing allows researchers to make inferences about population parameters based on sample data. It\n",
    " helps answer questions about the real-world effects, differences, or relationships between variables.\n",
    "\n",
    "2.Decision-Making: It provides a structured framework for making informed decisions. For example, it can be used to decide\n",
    " whether a new drug is effective, whether a marketing campaign is successful, or whether changes in a manufacturing process\n",
    "have an impact.\n",
    "\n",
    "3.Scientific Validation: In scientific research, hypothesis testing is used to validate or reject scientific hypotheses. This\n",
    "  is essential for building a body of scientific knowledge and confirming or refuting scientific theories.\n",
    "\n",
    "4.Quality Control: In quality control and manufacturing, hypothesis testing helps ensure product quality by monitoring\n",
    "  processes and making decisions about product specifications.\n",
    "\n",
    "5.Policy and Regulation: Hypothesis testing plays a role in policy-making and regulation. For example, it can be used to\n",
    "  assess the safety of new products, evaluate the impact of policies, and determine compliance with regulations.\n",
    "\n",
    "6.Risk Assessment: It helps assess and manage risks by providing a systematic way to test assumptions and make decisions in\n",
    "  uncertain situations.\n",
    "\n",
    "7.Statistical Significance: Hypothesis testing quantifies the concept of statistical significance, helping researchers and \n",
    "  decision-makers determine whether observed effects are likely to be due to chance or are genuinely significant."
   ]
  },
  {
   "cell_type": "markdown",
   "id": "0a369913-7d02-43c6-b4bc-da6ef672450c",
   "metadata": {},
   "source": [
    "## Q4. Create a hypothesis that states whether the average weight of male college students is greater than the average weight of female college students."
   ]
  },
  {
   "cell_type": "code",
   "execution_count": null,
   "id": "7bfd40a3-20d8-4d9e-8bf5-e51af8278dd1",
   "metadata": {},
   "outputs": [],
   "source": [
    "Null Hypothesis (H0): The average weight of male college students is equal to the average weight of female college students.\n",
    "\n",
    "Alternative Hypothesis (Ha): The average weight of male college students is greater than the average weight of female college\n",
    "students.\n",
    "\n",
    "In symbols:\n",
    "\n",
    "H0: μ_male = μ_female\n",
    "Ha: μ_male > μ_female\n",
    "\n",
    "Here, μ_male represents the population mean weight of male college students, and μ_female represents the population mean\n",
    "weight of female college students.\n",
    "\n",
    "The null hypothesis (H0) assumes that there is no significant difference in the average weights of male and female college \n",
    "students, while the alternative hypothesis (Ha) suggests that there is a significant difference, with male students having a\n",
    "greater average weight. Hypothesis testing would involve collecting data on the weights of male and female college students\n",
    "and conducting a statistical test to determine whether there is enough evidence to reject the null hypothesis in favor of the\n",
    "alternative hypothesis."
   ]
  },
  {
   "cell_type": "markdown",
   "id": "74d08a1c-1f76-4e04-99d0-92d87a73588b",
   "metadata": {},
   "source": [
    "## Q5. Write a Python script to conduct a hypothesis test on the difference between two population means, given a sample from each population."
   ]
  },
  {
   "cell_type": "code",
   "execution_count": 1,
   "id": "ab92d813-fcde-4965-8590-de269fe98a7f",
   "metadata": {},
   "outputs": [
    {
     "name": "stdout",
     "output_type": "stream",
     "text": [
      "Two-Sample T-Test Results:\n",
      "T-statistic: 6.644140490035103\n",
      "P-value: 6.522270375188119e-06\n",
      "Reject the null hypothesis. There is a significant difference in means.\n"
     ]
    }
   ],
   "source": [
    "import numpy as np\n",
    "from scipy import stats\n",
    "\n",
    "# Sample data from two populations (replace with your actual data)\n",
    "sample1 = np.array([67, 71, 63, 75, 72, 70, 68, 69, 71, 73])\n",
    "sample2 = np.array([60, 62, 58, 64, 61, 63, 59, 62, 65, 60])\n",
    "\n",
    "# Define the significance level (alpha)\n",
    "alpha = 0.05\n",
    "\n",
    "# Perform a two-sample t-test assuming unequal variances (Welch's t-test)\n",
    "t_stat, p_value = stats.ttest_ind(sample1, sample2, equal_var=False)\n",
    "\n",
    "# Print the results\n",
    "print(\"Two-Sample T-Test Results:\")\n",
    "print(f\"T-statistic: {t_stat}\")\n",
    "print(f\"P-value: {p_value}\")\n",
    "\n",
    "# Determine whether to reject the null hypothesis\n",
    "if p_value < alpha:\n",
    "    print(\"Reject the null hypothesis. There is a significant difference in means.\")\n",
    "else:\n",
    "    print(\"Fail to reject the null hypothesis. There is no significant difference in means.\")\n"
   ]
  },
  {
   "cell_type": "markdown",
   "id": "e92b854d-271b-4527-9ae0-f64fa2f1b4a8",
   "metadata": {},
   "source": [
    "## Q6: What is a null and alternative hypothesis? Give some examples."
   ]
  },
  {
   "cell_type": "code",
   "execution_count": null,
   "id": "4b0ae063-c041-4005-9859-b3ab31c712f1",
   "metadata": {},
   "outputs": [],
   "source": [
    "Null Hypothesis (H0):\n",
    "\n",
    "    ~The null hypothesis is a statement of no effect, no difference, or no relationship. It represents the default\n",
    "     assumption that there is no change or no significant effect in the population parameter being tested.\n",
    "    ~In hypothesis testing, the null hypothesis often includes an equality symbol (e.g., μ = 50, p = 0.5), suggesting\n",
    "     that there is no significant difference or effect.\n",
    "    ~The null hypothesis serves as a starting point for hypothesis testing, and the goal is to either reject it or fail\n",
    "     to reject it based on sample data and statistical analysis.\n",
    "        \n",
    "Alternative Hypothesis (Ha or H1):\n",
    "\n",
    "    ~The alternative hypothesis is a statement that contradicts the null hypothesis. It represents the assertion that\n",
    "     there is a significant effect, difference, or relationship in the population parameter being tested.\n",
    "    ~In hypothesis testing, the alternative hypothesis often includes inequality symbols (e.g., μ ≠ 50, p > 0.5),\n",
    "     suggesting that there is a significant difference or effect.\n",
    "    ~The alternative hypothesis reflects the research question or hypothesis that the researcher is interested in \n",
    "     testing.\n",
    "        \n",
    "Examples:\n",
    "\n",
    "1.Example 1 - Mean Comparison:\n",
    "\n",
    "    ~Null Hypothesis (H0): The average test scores of two groups are equal (μ1 = μ2).\n",
    "    ~Alternative Hypothesis (Ha): The average test scores of two groups are not equal (μ1 ≠ μ2).\n",
    "    ~Use: To test if there is a significant difference in test scores between two groups.\n",
    "    \n",
    "2.Example 2 - Proportion Comparison:\n",
    "\n",
    "    ~Null Hypothesis (H0): The proportion of defective products is less than or equal to 5% (p ≤ 0.05).\n",
    "    ~Alternative Hypothesis (Ha): The proportion of defective products is greater than 5% (p > 0.05).\n",
    "    ~Use: To assess whether the proportion of defective products exceeds a specified threshold.\n",
    "    \n",
    "3.Example 3 - Correlation Test:\n",
    "\n",
    "    ~Null Hypothesis (H0): There is no linear correlation between variables X and Y (ρ = 0).\n",
    "    ~Alternative Hypothesis (Ha): There is a linear correlation between variables X and Y (ρ ≠ 0).\n",
    "    ~Use: To examine whether there is a significant linear relationship between two variables.\n",
    "    \n",
    "4.Example 4 - Difference in Means (One-Sample t-test):\n",
    "\n",
    "    ~Null Hypothesis (H0): The mean weight of a product is 100 grams (μ = 100).\n",
    "    ~Alternative Hypothesis (Ha): The mean weight of a product is not 100 grams (μ ≠ 100).\n",
    "    ~Use: To test whether the mean weight of a product differs from a specified value.\n",
    "    \n",
    "5.Example 5 - Independence Test (Chi-Square Test):\n",
    "\n",
    "    ~Null Hypothesis (H0): There is no association between two categorical variables (no significant difference in \n",
    "     proportions).\n",
    "    ~Alternative Hypothesis (Ha): There is an association between two categorical variables (significant difference in\n",
    "     proportions).\n",
    "    ~Use: To determine whether there is a significant relationship between two categorical variables.\n",
    "    \n",
    "In each of these examples, the null hypothesis represents the status quo or the absence of a significant effect, while\n",
    "the alternative hypothesis represents the hypothesis or claim that the researcher aims to test. The choice of null and \n",
    "alternative hypotheses depends on the research question and the specific hypotheses being investigated."
   ]
  },
  {
   "cell_type": "markdown",
   "id": "251b4992-a64c-49d1-9857-d1b40903fe74",
   "metadata": {},
   "source": [
    "## Q7: Write down the steps involved in hypothesis testing."
   ]
  },
  {
   "cell_type": "code",
   "execution_count": null,
   "id": "6bd43dc0-cc19-4baa-9e22-1750730d7424",
   "metadata": {},
   "outputs": [],
   "source": [
    "Hypothesis testing involves a series of steps designed to assess whether there is enough evidence in the sample data to \n",
    "support or reject a specific hypothesis about a population parameter. Here are the main steps involved in hypothesis \n",
    "testing:\n",
    "\n",
    "1.Formulate Hypotheses:\n",
    "\n",
    "    ~Null Hypothesis (H0): Define the null hypothesis, which represents the default assumption of no effect, no \n",
    "     difference, or no relationship in the population parameter.\n",
    "    ~Alternative Hypothesis (Ha or H1): Define the alternative hypothesis, which represents the assertion of a \n",
    "     significant effect, difference, or relationship.\n",
    "        \n",
    "2.Choose Significance Level (α):\n",
    "\n",
    "    ~Select the significance level (α), often set at 0.05 (5%), which determines the threshold for statistical \n",
    "     significance. It represents the maximum probability of making a Type I error (rejecting a true null hypothesis).\n",
    "        \n",
    "3.Collect Data:\n",
    "\n",
    "    ~Gather sample data from the population of interest using a suitable sampling method.\n",
    "    \n",
    "4.Select a Statistical Test:\n",
    "\n",
    "    ~Choose an appropriate statistical test based on the type of data and the research question. Common tests include \n",
    "     t-tests, chi-square tests, ANOVA, correlation tests, and more.\n",
    "        \n",
    "5.Calculate Test Statistic:\n",
    "\n",
    "    ~Calculate the test statistic based on the sample data and the chosen statistical test. The test statistic quantifies\n",
    "     the difference, effect, or relationship being tested.\n",
    "        \n",
    "6.Determine Critical Value or P-Value:\n",
    "\n",
    "    ~For a hypothesis test, determine either the critical value or the p-value, depending on the statistical test used.\n",
    "    ~Critical Value Approach: Compare the calculated test statistic with a critical value from a statistical table or\n",
    "     distribution, such as the t-distribution or chi-square distribution.\n",
    "    ~P-Value Approach: Calculate the p-value, which represents the probability of obtaining a test statistic as extreme\n",
    "     as, or more extreme than, the one observed under the null hypothesis.\n",
    "        \n",
    "7.Make a Decision:\n",
    "\n",
    "    ~Critical Value Approach: If the test statistic falls in the critical region (rejecting region), reject the null\n",
    "     hypothesis. Otherwise, fail to reject the null hypothesis.\n",
    "    ~P-Value Approach: If the p-value is less than or equal to the chosen significance level (α), reject the null\n",
    "     hypothesis. Otherwise, fail to reject the null hypothesis.\n",
    "        \n",
    "8.Draw a Conclusion:\n",
    "\n",
    "    ~Based on the decision in step 7, draw a conclusion regarding the null hypothesis and the research question.\n",
    "    ~If the null hypothesis is rejected, state that there is enough evidence to support the alternative hypothesis.\n",
    "    ~If the null hypothesis is not rejected, state that there is not enough evidence to support the alternative\n",
    "     hypothesis.\n",
    "        \n",
    "9.Interpret Results:\n",
    "\n",
    "    ~Interpret the results of the hypothesis test in the context of the research question. Consider the practical and\n",
    "     scientific implications of the findings.\n",
    "        \n",
    "10.Report Findings:\n",
    "\n",
    "    ~Summarize the results of the hypothesis test in a clear and concise manner, including the test statistic, p-value,\n",
    "     and the conclusion regarding the null hypothesis.\n",
    "    ~Include any additional information relevant to the research question."
   ]
  },
  {
   "cell_type": "markdown",
   "id": "b7087bce-115c-4d3b-8b03-0e47a791cd41",
   "metadata": {},
   "source": [
    "## Q8. Define p-value and explain its significance in hypothesis testing."
   ]
  },
  {
   "cell_type": "code",
   "execution_count": null,
   "id": "96369618-661a-43dc-8e08-b11c51b352e9",
   "metadata": {},
   "outputs": [],
   "source": [
    "P-value (Probability Value):\n",
    "\n",
    "A p-value, or probability value, is a quantitative measure used in hypothesis testing to assess the strength of evidence\n",
    "against the null hypothesis (H0). It represents the probability of obtaining a test statistic as extreme as, or more\n",
    "extreme than, the one observed in the sample data, assuming that the null hypothesis is true. In other words, the p-value\n",
    "quantifies how unusual or surprising the observed data are under the assumption that the null hypothesis is correct.\n",
    "\n",
    "Significance of the P-value in Hypothesis Testing:\n",
    "\n",
    "The significance of the p-value in hypothesis testing is as follows:\n",
    "\n",
    "1.Decision Rule: The p-value serves as the basis for the decision in hypothesis testing. It helps determine whether to \n",
    " reject the null hypothesis or fail to reject it. The decision is made by comparing the p-value to the chosen\n",
    "significance level (α), which represents the threshold for statistical significance.\n",
    "\n",
    "    ~If p-value ≤ α: Reject the null hypothesis. There is enough evidence to support the alternative hypothesis.\n",
    "    ~If p-value > α: Fail to reject the null hypothesis. There is not enough evidence to support the alternative\n",
    "     hypothesis.\n",
    "        \n",
    "2.Interpretation: The p-value provides a quantitative measure of the strength of evidence against the null hypothesis. A \n",
    " small p-value (typically less than α) suggests that the observed data are unlikely to occur by random chance alone,\n",
    "providing strong evidence against the null hypothesis. Conversely, a large p-value suggests that the observed data are\n",
    "consistent with the null hypothesis.\n",
    "\n",
    "3.Scientific and Practical Significance: While a p-value can indicate statistical significance, it is essential to\n",
    " consider the practical and scientific significance of the results. Even if a p-value is statistically significant, the\n",
    "effect or difference observed may not be practically or scientifically meaningful. Researchers should interpret results\n",
    "in the context of the research question and domain-specific knowledge.\n",
    "\n",
    "4.Sensitivity to Sample Size: The p-value is sensitive to sample size. Larger sample sizes tend to yield smaller\n",
    " p-values, making it easier to detect small but potentially meaningful effects. Smaller sample sizes may result in larger\n",
    "p-values, making it more challenging to detect effects.\n",
    "\n",
    "5.Choice of Significance Level (α): The p-value allows researchers to control the Type I error rate, which is the\n",
    "  probability of incorrectly rejecting a true null hypothesis. Researchers can choose a significance level (α) that\n",
    "aligns with their desired level of confidence in rejecting the null hypothesis. Common choices for α include 0.05 (5%) \n",
    "and 0.01 (1%)."
   ]
  },
  {
   "cell_type": "markdown",
   "id": "6dec40d7-fcc2-4558-ae4b-87e102880705",
   "metadata": {},
   "source": [
    "## Q9. Generate a Student's t-distribution plot using Python's matplotlib library, with the degrees of freedom parameter set to 10."
   ]
  },
  {
   "cell_type": "code",
   "execution_count": 2,
   "id": "02b0f66f-56d3-4b0b-b040-eba3fb09b703",
   "metadata": {},
   "outputs": [
    {
     "data": {
      "image/png": "[encoded data removed]",
      "text/plain": [
       "<Figure size 800x600 with 1 Axes>"
      ]
     },
     "metadata": {},
     "output_type": "display_data"
    }
   ],
   "source": [
    "import numpy as np\n",
    "import matplotlib.pyplot as plt\n",
    "from scipy.stats import t\n",
    "\n",
    "# Degrees of freedom\n",
    "df = 10\n",
    "\n",
    "# Generate x values for the t-distribution plot\n",
    "x = np.linspace(-4, 4, 1000)\n",
    "\n",
    "# Calculate the probability density function (PDF) for the t-distribution\n",
    "pdf = t.pdf(x, df)\n",
    "\n",
    "# Create the plot\n",
    "plt.figure(figsize=(8, 6))\n",
    "plt.plot(x, pdf, label=f\"t-distribution (df={df})\", color='blue')\n",
    "plt.title(f\"Student's t-distribution (df={df})\")\n",
    "plt.xlabel(\"x\")\n",
    "plt.ylabel(\"PDF\")\n",
    "plt.legend()\n",
    "plt.grid(True)\n",
    "plt.show()\n"
   ]
  },
  {
   "cell_type": "markdown",
   "id": "8ecc9481-5cdf-4d5d-b1e7-83fe9ccf22d1",
   "metadata": {},
   "source": [
    "## Q10. Write a Python program to calculate the two-sample t-test for independent samples, given two random samples of equal size and a null hypothesis that the population means are equal."
   ]
  },
  {
   "cell_type": "code",
   "execution_count": 3,
   "id": "71170131-8c55-4cf6-bcbf-47280a2dc086",
   "metadata": {},
   "outputs": [
    {
     "name": "stdout",
     "output_type": "stream",
     "text": [
      "Two-Sample T-Test Results:\n",
      "T-statistic: 2.6792315495842853\n",
      "P-value: 0.008655761198684338\n",
      "Reject the null hypothesis. There is enough evidence to suggest a significant difference.\n"
     ]
    }
   ],
   "source": [
    "import numpy as np\n",
    "from scipy import stats\n",
    "\n",
    "# Generate two random samples (replace with your actual data)\n",
    "sample1 = np.random.normal(50, 10, 50)  # Sample 1 with mean 50 and standard deviation 10\n",
    "sample2 = np.random.normal(45, 10, 50)  # Sample 2 with mean 45 and standard deviation 10\n",
    "\n",
    "# Perform a two-sample t-test assuming equal variances\n",
    "t_stat, p_value = stats.ttest_ind(sample1, sample2, equal_var=True)\n",
    "\n",
    "# Define the significance level (alpha)\n",
    "alpha = 0.05\n",
    "\n",
    "# Print the results\n",
    "print(\"Two-Sample T-Test Results:\")\n",
    "print(f\"T-statistic: {t_stat}\")\n",
    "print(f\"P-value: {p_value}\")\n",
    "\n",
    "# Determine whether to reject the null hypothesis\n",
    "if p_value < alpha:\n",
    "    print(\"Reject the null hypothesis. There is enough evidence to suggest a significant difference.\")\n",
    "else:\n",
    "    print(\"Fail to reject the null hypothesis. There is no significant difference.\")\n"
   ]
  },
  {
   "cell_type": "markdown",
   "id": "a50e17d5-2d6c-4e19-8465-8cab05a315cf",
   "metadata": {},
   "source": [
    "## Q11: What is Student’s t distribution? When to use the t-Distribution."
   ]
  },
  {
   "cell_type": "code",
   "execution_count": null,
   "id": "b6d0f91b-bd1e-47c2-b8f1-018a5b61c689",
   "metadata": {},
   "outputs": [],
   "source": [
    "Student's t-Distribution:\n",
    "\n",
    "Student's t-distribution, often referred to as the t-distribution, is a probability distribution that is used in\n",
    "statistics to make inferences about population means when the sample size is small (typically when the sample size is\n",
    "less than 30) or when the population standard deviation is unknown. It is named after the pseudonym \"Student,\" which was\n",
    "used by the statistician William Sealy Gosset when he developed the distribution in the early 20th century while working \n",
    "for the Guinness Brewery.\n",
    "\n",
    "The t-distribution closely resembles the normal distribution in shape, but it has heavier tails. The key parameter that \n",
    "determines the shape of the t-distribution is the degrees of freedom (df). As df increases, the t-distribution approaches\n",
    "the normal distribution.\n",
    "\n",
    "When to Use the t-Distribution:\n",
    "\n",
    "The t-distribution is used in various statistical situations, particularly when dealing with sample data and making\n",
    "inferences about population parameters:\n",
    "\n",
    "1.Small Sample Size: The t-distribution is especially useful when dealing with small sample sizes (typically less than \n",
    "  30) where the assumption of a normal distribution may not hold. In such cases, the t-distribution provides a more\n",
    "accurate model for the sampling distribution of the sample mean.\n",
    "\n",
    "2.Unknown Population Standard Deviation: When the population standard deviation (σ) is unknown and is estimated from the\n",
    " sample data using the sample standard deviation (s), the t-distribution is used to account for the additional \n",
    "uncertainty introduced by this estimation.\n",
    "\n",
    "3.Hypothesis Testing: In hypothesis testing, the t-distribution is used when comparing sample means to test hypotheses\n",
    " about population means. This is common in scenarios where we want to determine if there is a significant difference\n",
    "between groups or conditions.\n",
    "\n",
    "4.Confidence Intervals: When constructing confidence intervals for population means based on sample data, the t-\n",
    " distribution is used to account for the variability introduced by using sample data.\n",
    "\n",
    "5.Quality Control: In quality control and process control, the t-distribution is employed to assess whether a process is\n",
    " within specification limits based on a sample of measurements.\n",
    "\n",
    "6.Regression Analysis: In linear regression analysis, the t-distribution is used to test the significance of regression\n",
    " coefficients.\n",
    "\n",
    "7.Analysis of Variance (ANOVA): When comparing means across multiple groups or conditions, such as in ANOVA, the t-\n",
    " distribution is used to perform hypothesis tests."
   ]
  },
  {
   "cell_type": "markdown",
   "id": "8197254f-92e7-4e1e-95e9-06e6fdcb8537",
   "metadata": {},
   "source": [
    "## Q12: What is t-statistic? State the formula for t-statistic."
   ]
  },
  {
   "cell_type": "code",
   "execution_count": null,
   "id": "c8b25e12-bd38-46de-b0a3-3df8c83630d1",
   "metadata": {},
   "outputs": [],
   "source": [
    "T-Statistic:\n",
    "\n",
    "The t-statistic (or t-score) is a statistical measure that quantifies how many standard errors a sample mean is away\n",
    "from the population mean. It is used in hypothesis testing to assess whether the difference between a sample mean and a \n",
    "population mean is statistically significant, especially when the sample size is small or the population standard\n",
    "deviation is unknown.\n",
    "\n",
    "Formula for T-Statistic (Two-Sample T-Test):\n",
    "\n",
    "The formula for the t-statistic in the context of a two-sample t-test for independent samples (assuming equal variances) \n",
    "is given by:\n",
    "\n",
    "    t=X1ˉ-X2ˉ/sP 2/n\n",
    " \n",
    "    Where:\n",
    "    ~t is the t-statistic.\n",
    "    ~X1 is the sample mean of the first sample.\n",
    "    ~X2 is the sample mean of the second sample.\n",
    "    ~sp is the pooled standard deviation of the two samples.\n",
    "    ~n is the sample size for each of the two samples.\n",
    "\n",
    "The pooled standard deviation (sp) is calculated as follows:\n",
    "    \n",
    "        sp = (n1-1)s12+(n2-2)s22/n1+n2-2\n",
    "        \n",
    "    where:\n",
    "        ~n1 is the sample size of the first sample.\n",
    "        ~n2 is the sample size of the second sample.\n",
    "        ~s1 is the standard deviation of the first sample.\n",
    "        ~s2 is the standard deviation of the second sample.\n",
    "        \n",
    "Interpretation:\n",
    "    The t-statistic measures the difference in sample means relative to the expected variability between the samples. A larger \n",
    "absolute value of the t-statistic indicates a greater difference between the sample means and suggests stronger evidence \n",
    "against the null hypothesis (H0) that the population means are equal. In hypothesis testing, you compare the calculated \n",
    "t-statistic to critical values from the t-distribution to determine whether to reject or fail to reject the null hypothesis."
   ]
  },
  {
   "cell_type": "markdown",
   "id": "5f6fb1ef-1f48-485c-a054-fc8d9b46de24",
   "metadata": {},
   "source": [
    "## Q13. A coffee shop owner wants to estimate the average daily revenue for their shop. They take a random sample of 50 days and find the sample mean revenue to be $500 with a standard deviation of $50.Estimate the population mean revenue with a 95% confidence interval."
   ]
  },
  {
   "cell_type": "code",
   "execution_count": null,
   "id": "c3499b02-2336-4f4c-9699-d0f50bbfa496",
   "metadata": {},
   "outputs": [],
   "source": [
    "To estimate the population mean revenue with a 95% confidence interval, you can use the formula for a confidence interval for \n",
    "the population mean when the population standard deviation is unknown. The formula for a confidence interval is:\n",
    "\n",
    "Confidence Interval=Sample Mean±(Critical Value×Sample Standard Deviation/Sample Size)\n",
    "\n",
    "In your case:\n",
    "\n",
    "    ~Sample Mean (ˉXˉ) = $500\n",
    "    ~Sample Standard Deviation (s) = $50\n",
    "    ~Sample Size (n) = 50\n",
    "    ~Confidence Level (1−α) = 95%, which corresponds to α=0.05 (two-tailed)\n",
    "    \n",
    "    You'll also need to find the critical value for a 95% confidence interval. For a two-tailed confidence interval and a \n",
    "significance level (α) of 0.05, you can find the critical value by looking it up in the t-distribution table or using a \n",
    "calculator. Since the sample size is 50, you have 49 degrees of freedom (df=n−1)."
   ]
  },
  {
   "cell_type": "code",
   "execution_count": 1,
   "id": "36f32416-13db-4ea7-9281-8d72be1ed096",
   "metadata": {},
   "outputs": [
    {
     "name": "stdout",
     "output_type": "stream",
     "text": [
      "Critical Value: 2.009575234489209\n",
      "Margin of Error: 14.209842756118658\n",
      "95% Confidence Interval: (485.79015724388137, 514.2098427561186)\n"
     ]
    }
   ],
   "source": [
    "import scipy.stats as stats\n",
    "\n",
    "alpha = 0.05  # Significance level\n",
    "df = 49  # Degrees of freedom (n - 1)\n",
    "\n",
    "# Calculate the critical value (two-tailed)\n",
    "critical_value = stats.t.ppf(1 - alpha / 2, df)\n",
    "\n",
    "# Calculate the margin of error\n",
    "margin_of_error = critical_value * (50 / (50 ** 0.5))\n",
    "\n",
    "# Calculate the confidence interval\n",
    "confidence_interval = (500 - margin_of_error, 500 + margin_of_error)\n",
    "\n",
    "print(\"Critical Value:\", critical_value)\n",
    "print(\"Margin of Error:\", margin_of_error)\n",
    "print(\"95% Confidence Interval:\", confidence_interval)\n"
   ]
  },
  {
   "cell_type": "markdown",
   "id": "937b16db-764f-4a2b-9574-6c5f3c4d39bb",
   "metadata": {},
   "source": [
    "## Q14. A researcher hypothesizes that a new drug will decrease blood pressure by 10 mmHg. They conduct a clinical trial with 100 patients and find that the sample mean decrease in blood pressure is 8 mmHg with a standard deviation of 3 mmHg. Test the hypothesis with a significance level of 0.05."
   ]
  },
  {
   "cell_type": "code",
   "execution_count": null,
   "id": "4a27d999-5e1c-48bd-895c-1a19b7997403",
   "metadata": {},
   "outputs": [],
   "source": [
    "To test the hypothesis that a new drug decreases blood pressure by 10 mmHg, you can perform a one-sample t-test. Here are the\n",
    "details of the test:\n",
    "\n",
    "Null Hypothesis (H0): The new drug has no effect on blood pressure, i.e., the population mean decrease in blood pressure (μ)\n",
    "is equal to 10 mmHg.\n",
    "    H0:μ=10\n",
    "Alternative Hypothesis (Ha): The new drug decreases blood pressure by 10 mmHg, i.e., the population mean decrease in blood \n",
    "pressure (μ) is less than 10 mm Hg.\n",
    "    Ha:μ<10\n",
    "Given Data:\n",
    "\n",
    "Sample Mean (ˉXˉ) = 8 mmHg\n",
    "Sample Standard Deviation (s) = 3 mmHg\n",
    "Sample Size (n) = 100\n",
    "Significance Level (α) = 0.05 (one-tailed, since we are testing if the drug decreases blood pressure)\n",
    "To test this hypothesis, you can calculate the t-statistic and compare it to the critical value from the t-distribution table\n",
    "or use a calculator. We will also calculate the degrees of freedom (df=n−1)."
   ]
  },
  {
   "cell_type": "code",
   "execution_count": 4,
   "id": "8393403d-846c-484d-a4a2-38bed24a4c88",
   "metadata": {},
   "outputs": [
    {
     "name": "stdout",
     "output_type": "stream",
     "text": [
      "T-Statistic: -6.666666666666667\n",
      "Critical Value: -1.6603911559963902\n",
      "Reject the null hypothesis. There is enough evidence to conclude that the drug decreases blood pressure.\n"
     ]
    }
   ],
   "source": [
    "import scipy.stats as stats\n",
    "\n",
    "# Given data\n",
    "sample_mean = 8\n",
    "sample_stddev = 3\n",
    "sample_size = 100\n",
    "alpha = 0.05  # Significance level (one-tailed)\n",
    "\n",
    "# Degrees of freedom\n",
    "df = sample_size - 1\n",
    "\n",
    "# Calculate the t-statistic\n",
    "t_statistic = (sample_mean - 10) / (sample_stddev / (sample_size ** 0.5))\n",
    "\n",
    "# Calculate the critical value for a one-tailed test\n",
    "critical_value = stats.t.ppf(alpha, df)\n",
    "\n",
    "# Print the results\n",
    "print(\"T-Statistic:\", t_statistic)\n",
    "print(\"Critical Value:\", critical_value)\n",
    "\n",
    "# Make the decision\n",
    "if t_statistic < critical_value:\n",
    "    print(\"Reject the null hypothesis. There is enough evidence to conclude that the drug decreases blood pressure.\")\n",
    "else:\n",
    "    print(\"Fail to reject the null hypothesis. There is not enough evidence to conclude that the drug decreases blood pressure.\")\n"
   ]
  },
  {
   "cell_type": "markdown",
   "id": "9403eeb7-25cf-42c7-b68a-8857d92dbe68",
   "metadata": {},
   "source": [
    "## Q15. An electronics company produces a certain type of product with a mean weight of 5 pounds and a standard deviation of 0.5 pounds. A random sample of 25 products is taken, and the sample mean weight is found to be 4.8 pounds. Test the hypothesis that the true mean weight of the products is less than 5 pounds with a significance level of 0.01."
   ]
  },
  {
   "cell_type": "code",
   "execution_count": null,
   "id": "8de3c137-d89c-4bb0-b31b-4e7660c5f093",
   "metadata": {},
   "outputs": [],
   "source": [
    "To test the hypothesis that the true mean weight of the products is less than 5 pounds, you can perform a one-sample t-test\n",
    "for a population mean (μ) with a left-tailed test. Here are the details of the test:\n",
    "\n",
    "Null Hypothesis (H0): The true mean weight of the products is equal to 5 pounds.\n",
    "    H0:μ=5\n",
    "Alternative Hypothesis (Ha): The true mean weight of the products is less than 5 pounds.\n",
    "    Ha:μ<5\n",
    "    \n",
    "    Given Data:\n",
    "\n",
    "    ~Population Mean (μ) = 5 pounds\n",
    "    ~Population Standard Deviation (σ) = 0.5 pounds\n",
    "    ~Sample Size (n) = 25\n",
    "    ~Sample Mean (ˉXˉ) = 4.8 pounds\n",
    "    ~Significance Level (α) = 0.01 (left-tailed test)\n",
    "    \n",
    "To test this hypothesis, you can calculate the t-statistic and compare it to the critical value from the t-distribution table\n",
    "or use a calculator. We will also calculate the degrees of freedom (df=n−1)."
   ]
  },
  {
   "cell_type": "markdown",
   "id": "44ad3045-04fa-47ff-9a0e-427fbdf35463",
   "metadata": {},
   "source": [
    "## Q16. Two groups of students are given different study materials to prepare for a test. The first group (n1 = 30) has a mean score of 80 with a standard deviation of 10, and the second group (n2 = 40) has a mean score of 75 with a standard deviation of 8. Test the hypothesis that the population means for the two groups are equal with a significance level of 0.01."
   ]
  },
  {
   "cell_type": "code",
   "execution_count": 5,
   "id": "80fcb647-295e-457e-8cd5-8d29073402bc",
   "metadata": {},
   "outputs": [
    {
     "name": "stdout",
     "output_type": "stream",
     "text": [
      "Degrees of Freedom (df): 54.230639907533885\n",
      "T-Statistic: 2.2511258444537408\n",
      "Critical Value: 2.6695708569864056\n",
      "Fail to reject the null hypothesis. There is not enough evidence to conclude that the population means are not equal.\n"
     ]
    }
   ],
   "source": [
    "import scipy.stats as stats\n",
    "\n",
    "# Given data for Group 1\n",
    "n1 = 30\n",
    "mean1 = 80\n",
    "stddev1 = 10\n",
    "\n",
    "# Given data for Group 2\n",
    "n2 = 40\n",
    "mean2 = 75\n",
    "stddev2 = 8\n",
    "\n",
    "# Significance level (two-tailed)\n",
    "alpha = 0.01\n",
    "\n",
    "# Calculate the degrees of freedom using the Welch-Satterthwaite formula\n",
    "numerator_df = ((stddev1 ** 2 / n1) + (stddev2 ** 2 / n2)) ** 2\n",
    "denominator_df = ((stddev1 ** 2 / n1) ** 2 / (n1 - 1)) + ((stddev2 ** 2 / n2) ** 2 / (n2 - 1))\n",
    "df = numerator_df / denominator_df\n",
    "\n",
    "# Calculate the pooled standard error\n",
    "pooled_std_error = ((stddev1 ** 2 / n1) + (stddev2 ** 2 / n2)) ** 0.5\n",
    "\n",
    "# Calculate the t-statistic\n",
    "t_statistic = (mean1 - mean2) / pooled_std_error\n",
    "\n",
    "# Calculate the critical value for a two-tailed test\n",
    "critical_value = stats.t.ppf(1 - alpha / 2, df)\n",
    "\n",
    "# Print the results\n",
    "print(\"Degrees of Freedom (df):\", df)\n",
    "print(\"T-Statistic:\", t_statistic)\n",
    "print(\"Critical Value:\", critical_value)\n",
    "\n",
    "# Make the decision\n",
    "if abs(t_statistic) > critical_value:\n",
    "    print(\"Reject the null hypothesis. There is enough evidence to conclude that the population means are not equal.\")\n",
    "else:\n",
    "    print(\"Fail to reject the null hypothesis. There is not enough evidence to conclude that the population means are not equal.\")\n"
   ]
  },
  {
   "cell_type": "markdown",
   "id": "96c7f32d-5c54-4ebc-a224-62722198c88a",
   "metadata": {},
   "source": [
    "## Q17. A marketing company wants to estimate the average number of ads watched by viewers during a TV program. They take a random sample of 50 viewers and find that the sample mean is 4 with a standard deviation of 1.5. Estimate the population mean with a 99% confidence interval."
   ]
  },
  {
   "cell_type": "code",
   "execution_count": 6,
   "id": "317f7637-641f-497a-8d90-2075b6aca2d0",
   "metadata": {},
   "outputs": [
    {
     "name": "stdout",
     "output_type": "stream",
     "text": [
      "Critical Value: 2.67995197363155\n",
      "Margin of Error: 0.5685036641427422\n",
      "99% Confidence Interval: (3.4314963358572577, 4.568503664142742)\n"
     ]
    }
   ],
   "source": [
    "import scipy.stats as stats\n",
    "\n",
    "alpha = 0.01  # Significance level\n",
    "df = 49  # Degrees of freedom (n - 1)\n",
    "\n",
    "# Calculate the critical value for a two-tailed test\n",
    "critical_value = stats.t.ppf(1 - alpha / 2, df)\n",
    "\n",
    "# Calculate the margin of error\n",
    "margin_of_error = critical_value * (1.5 / (50 ** 0.5))\n",
    "\n",
    "# Calculate the confidence interval\n",
    "confidence_interval = (4 - margin_of_error, 4 + margin_of_error)\n",
    "\n",
    "print(\"Critical Value:\", critical_value)\n",
    "print(\"Margin of Error:\", margin_of_error)\n",
    "print(\"99% Confidence Interval:\", confidence_interval)\n"
   ]
  }
 ],
 "metadata": {
  "kernelspec": {
   "display_name": "Python 3 (ipykernel)",
   "language": "python",
   "name": "python3"
  },
  "language_info": {
   "codemirror_mode": {
    "name": "ipython",
    "version": 3
   },
   "file_extension": ".py",
   "mimetype": "text/x-python",
   "name": "python",
   "nbconvert_exporter": "python",
   "pygments_lexer": "ipython3",
   "version": "3.10.8"
  }
 },
 "nbformat": 4,
 "nbformat_minor": 5
}
